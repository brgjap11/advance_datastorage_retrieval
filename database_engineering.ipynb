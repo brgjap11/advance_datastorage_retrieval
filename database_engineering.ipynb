{
 "cells": [
  {
   "cell_type": "code",
   "execution_count": 2,
   "metadata": {},
   "outputs": [],
   "source": [
    "!rm Hawaii.sqlite"
   ]
  },
  {
   "cell_type": "code",
   "execution_count": 3,
   "metadata": {},
   "outputs": [],
   "source": [
    "import pandas as pd\n",
    "import numpy as np\n",
    "# Python SQL toolkit and Object Relational Mapper\n",
    "import sqlalchemy\n",
    "from sqlalchemy.ext.automap import automap_base\n",
    "from sqlalchemy.orm import Session\n",
    "from sqlalchemy import create_engine, MetaData\n",
    "from sqlalchemy.ext.declarative import declarative_base\n",
    "from sqlalchemy import Column, Integer, String, Numeric, Text, Float"
   ]
  },
  {
   "cell_type": "code",
   "execution_count": 4,
   "metadata": {},
   "outputs": [],
   "source": [
    "#Use Pandas to read clean measurements CSV data.\n",
    "measurement_csvfile = \"clean_hawaii_measurements.csv\"\n",
    "measurement = pd.read_csv(measurement_csvfile)\n",
    "#dropping new index saved with the clean measurements csv\n",
    "measurement = measurement.drop('Unnamed: 0', axis =1)\n",
    "#Use Pandas to read clean stations CSV data.\n",
    "station_csvfile = \"clean_hawaii_stations.csv\"\n",
    "stations= pd.read_csv(station_csvfile)\n",
    "#dropping new index saved with the clean measurements csv\n",
    "stations = stations.drop('Unnamed: 0', axis =1)"
   ]
  },
  {
   "cell_type": "code",
   "execution_count": 5,
   "metadata": {},
   "outputs": [],
   "source": [
    "#Use the engine and connection string to create a database called hawaii.sqlite.\n",
    "engine = create_engine(\"sqlite:///hawaii.sqlite\")\n",
    "conn= engine.connect()"
   ]
  },
  {
   "cell_type": "code",
   "execution_count": 8,
   "metadata": {},
   "outputs": [
    {
     "data": {
      "text/plain": [
       "<sqlalchemy.engine.result.ResultProxy at 0x900aac8>"
      ]
     },
     "execution_count": 8,
     "metadata": {},
     "output_type": "execute_result"
    }
   ],
   "source": [
    "#Use declarative_base and create ORM classes for 'measurement' table\n",
    "Base = declarative_base()\n",
    "\n",
    "class Measurement(Base):\n",
    "    __tablename__ = 'Measurement'\n",
    "\n",
    "    id = Column(Integer, primary_key=True)\n",
    "    station = Column(Text)\n",
    "    date = Column(Text)\n",
    "    prcp =Column(Float)\n",
    "    tobs = Column(Text)\n",
    "\n",
    "#Use declarative_base and create ORM classes for 'stations' table.\n",
    "class Station(Base):\n",
    "    __tablename__ = 'Stations'\n",
    "\n",
    "    id = Column(Integer, primary_key=True)\n",
    "    station = Column(Text)\n",
    "    name = Column(Text)\n",
    "    latitude = Column(Float)\n",
    "    longitude = Column(Float)\n",
    "    elevation = Column(Float)\n",
    "    \n",
    "#creating the Measurement table using create_all. \n",
    "Base.metadata.create_all(engine)\n",
    "# Use Orient='records' to create a list of data to write & changing 'new_measurement' do dictionary\n",
    "data = measurement.to_dict(orient='records')\n",
    "# Use MetaData from SQLAlchemy to reflect the tables\n",
    "metadata = MetaData(bind=engine)\n",
    "metadata.reflect()\n",
    "# Save the Measurement table to a variable \n",
    "table = sqlalchemy.Table('Measurement', metadata, autoload=True)\n",
    "# populating the measurement table with data from clean_measurement_csv\n",
    "conn.execute(table.insert(), data)"
   ]
  },
  {
   "cell_type": "code",
   "execution_count": 9,
   "metadata": {},
   "outputs": [
    {
     "data": {
      "text/plain": [
       "<sqlalchemy.engine.result.ResultProxy at 0x9e13710>"
      ]
     },
     "execution_count": 9,
     "metadata": {},
     "output_type": "execute_result"
    }
   ],
   "source": [
    "#Use declarative_base and create ORM classes for 'stations' table.\n",
    "Base = declarative_base()\n",
    "\n",
    "class Station(Base):\n",
    "    __tablename__ = 'Stations'\n",
    "\n",
    "    id = Column(Integer, primary_key=True)\n",
    "    station = Column(Text)\n",
    "    name = Column(Text)\n",
    "    latitude = Column(Float)\n",
    "    longitude = Column(Float)\n",
    "    elevation = Column(Float)\n",
    "\n",
    "#creating the Measurement table using create_all. \n",
    "Base.metadata.create_all(engine)\n",
    "# Load the cleaned csv file into a pandas dataframe\n",
    "new_station = pd.read_csv(station_csvfile)\n",
    "# Use Orient='records' to create a list of data to write & changing 'new_measurement' do dictionary\n",
    "data1 = new_station.to_dict(orient='records')\n",
    "# Use MetaData from SQLAlchemy to reflect the tables\n",
    "metadata = MetaData(bind=engine)\n",
    "metadata.reflect()\n",
    "# Save the Measurement table to a variable \n",
    "table = sqlalchemy.Table('Stations', metadata, autoload=True)\n",
    "# populating the measurement table with data from clean_measurement_csv\n",
    "conn.execute(table.insert(), data1)"
   ]
  },
  {
   "cell_type": "code",
   "execution_count": null,
   "metadata": {},
   "outputs": [],
   "source": []
  },
  {
   "cell_type": "code",
   "execution_count": null,
   "metadata": {},
   "outputs": [],
   "source": []
  }
 ],
 "metadata": {
  "kernelspec": {
   "display_name": "Python 3",
   "language": "python",
   "name": "python3"
  },
  "language_info": {
   "codemirror_mode": {
    "name": "ipython",
    "version": 3
   },
   "file_extension": ".py",
   "mimetype": "text/x-python",
   "name": "python",
   "nbconvert_exporter": "python",
   "pygments_lexer": "ipython3",
   "version": "3.6.4"
  }
 },
 "nbformat": 4,
 "nbformat_minor": 2
}
